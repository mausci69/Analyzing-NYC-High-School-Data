{
 "cells": [
  {
   "cell_type": "markdown",
   "metadata": {},
   "source": [
    "# Read in the data"
   ]
  },
  {
   "cell_type": "code",
   "execution_count": 1,
   "metadata": {
    "collapsed": true
   },
   "outputs": [],
   "source": [
    "import pandas as pd\n",
    "import numpy\n",
    "import re\n",
    "\n",
    "data_files = [\n",
    "    \"ap_2010.csv\",\n",
    "    \"class_size.csv\",\n",
    "    \"demographics.csv\",\n",
    "    \"graduation.csv\",\n",
    "    \"hs_directory.csv\",\n",
    "    \"sat_results.csv\"\n",
    "]\n",
    "\n",
    "data = {}\n",
    "\n",
    "for f in data_files:\n",
    "    d = pd.read_csv(\"schools/{0}\".format(f))\n",
    "    data[f.replace(\".csv\", \"\")] = d"
   ]
  },
  {
   "cell_type": "markdown",
   "metadata": {},
   "source": [
    "# Read in the surveys"
   ]
  },
  {
   "cell_type": "code",
   "execution_count": 2,
   "metadata": {
    "collapsed": true
   },
   "outputs": [],
   "source": [
    "all_survey = pd.read_csv(\"schools/survey_all.txt\", delimiter=\"\\t\", encoding='windows-1252')\n",
    "d75_survey = pd.read_csv(\"schools/survey_d75.txt\", delimiter=\"\\t\", encoding='windows-1252')\n",
    "survey = pd.concat([all_survey, d75_survey], axis=0)\n",
    "\n",
    "survey[\"DBN\"] = survey[\"dbn\"]\n",
    "\n",
    "survey_fields = [\n",
    "    \"DBN\", \n",
    "    \"rr_s\", \n",
    "    \"rr_t\", \n",
    "    \"rr_p\", \n",
    "    \"N_s\", \n",
    "    \"N_t\", \n",
    "    \"N_p\", \n",
    "    \"saf_p_11\", \n",
    "    \"com_p_11\", \n",
    "    \"eng_p_11\", \n",
    "    \"aca_p_11\", \n",
    "    \"saf_t_11\", \n",
    "    \"com_t_11\", \n",
    "    \"eng_t_11\", \n",
    "    \"aca_t_11\", \n",
    "    \"saf_s_11\", \n",
    "    \"com_s_11\", \n",
    "    \"eng_s_11\", \n",
    "    \"aca_s_11\", \n",
    "    \"saf_tot_11\", \n",
    "    \"com_tot_11\", \n",
    "    \"eng_tot_11\", \n",
    "    \"aca_tot_11\",\n",
    "]\n",
    "survey = survey.loc[:,survey_fields]\n",
    "data[\"survey\"] = survey"
   ]
  },
  {
   "cell_type": "markdown",
   "metadata": {},
   "source": [
    "# Add DBN columns"
   ]
  },
  {
   "cell_type": "code",
   "execution_count": 3,
   "metadata": {
    "collapsed": true
   },
   "outputs": [],
   "source": [
    "data[\"hs_directory\"][\"DBN\"] = data[\"hs_directory\"][\"dbn\"]\n",
    "\n",
    "def pad_csd(num):\n",
    "    string_representation = str(num)\n",
    "    if len(string_representation) > 1:\n",
    "        return string_representation\n",
    "    else:\n",
    "        return \"0\" + string_representation\n",
    "    \n",
    "data[\"class_size\"][\"padded_csd\"] = data[\"class_size\"][\"CSD\"].apply(pad_csd)\n",
    "data[\"class_size\"][\"DBN\"] = data[\"class_size\"][\"padded_csd\"] + data[\"class_size\"][\"SCHOOL CODE\"]"
   ]
  },
  {
   "cell_type": "markdown",
   "metadata": {},
   "source": [
    "# Convert columns to numeric"
   ]
  },
  {
   "cell_type": "code",
   "execution_count": 4,
   "metadata": {
    "collapsed": true
   },
   "outputs": [],
   "source": [
    "cols = ['SAT Math Avg. Score', 'SAT Critical Reading Avg. Score', 'SAT Writing Avg. Score']\n",
    "for c in cols:\n",
    "    data[\"sat_results\"][c] = pd.to_numeric(data[\"sat_results\"][c], errors=\"coerce\")\n",
    "\n",
    "data['sat_results']['sat_score'] = data['sat_results'][cols[0]] + data['sat_results'][cols[1]] + data['sat_results'][cols[2]]\n",
    "\n",
    "def find_lat(loc):\n",
    "    coords = re.findall(\"\\(.+, .+\\)\", loc)\n",
    "    lat = coords[0].split(\",\")[0].replace(\"(\", \"\")\n",
    "    return lat\n",
    "\n",
    "def find_lon(loc):\n",
    "    coords = re.findall(\"\\(.+, .+\\)\", loc)\n",
    "    lon = coords[0].split(\",\")[1].replace(\")\", \"\").strip()\n",
    "    return lon\n",
    "\n",
    "data[\"hs_directory\"][\"lat\"] = data[\"hs_directory\"][\"Location 1\"].apply(find_lat)\n",
    "data[\"hs_directory\"][\"lon\"] = data[\"hs_directory\"][\"Location 1\"].apply(find_lon)\n",
    "\n",
    "data[\"hs_directory\"][\"lat\"] = pd.to_numeric(data[\"hs_directory\"][\"lat\"], errors=\"coerce\")\n",
    "data[\"hs_directory\"][\"lon\"] = pd.to_numeric(data[\"hs_directory\"][\"lon\"], errors=\"coerce\")"
   ]
  },
  {
   "cell_type": "markdown",
   "metadata": {},
   "source": [
    "# Condense datasets"
   ]
  },
  {
   "cell_type": "code",
   "execution_count": 5,
   "metadata": {
    "collapsed": true
   },
   "outputs": [],
   "source": [
    "class_size = data[\"class_size\"]\n",
    "class_size = class_size[class_size[\"GRADE \"] == \"09-12\"]\n",
    "class_size = class_size[class_size[\"PROGRAM TYPE\"] == \"GEN ED\"]\n",
    "\n",
    "class_size = class_size.groupby(\"DBN\").agg(numpy.mean)\n",
    "class_size.reset_index(inplace=True)\n",
    "data[\"class_size\"] = class_size\n",
    "\n",
    "data[\"demographics\"] = data[\"demographics\"][data[\"demographics\"][\"schoolyear\"] == 20112012]\n",
    "\n",
    "data[\"graduation\"] = data[\"graduation\"][data[\"graduation\"][\"Cohort\"] == \"2006\"]\n",
    "data[\"graduation\"] = data[\"graduation\"][data[\"graduation\"][\"Demographic\"] == \"Total Cohort\"]"
   ]
  },
  {
   "cell_type": "markdown",
   "metadata": {},
   "source": [
    "# Convert AP scores to numeric"
   ]
  },
  {
   "cell_type": "code",
   "execution_count": 6,
   "metadata": {
    "collapsed": true
   },
   "outputs": [],
   "source": [
    "cols = ['AP Test Takers ', 'Total Exams Taken', 'Number of Exams with scores 3 4 or 5']\n",
    "\n",
    "for col in cols:\n",
    "    data[\"ap_2010\"][col] = pd.to_numeric(data[\"ap_2010\"][col], errors=\"coerce\")"
   ]
  },
  {
   "cell_type": "markdown",
   "metadata": {},
   "source": [
    "# Combine the datasets"
   ]
  },
  {
   "cell_type": "code",
   "execution_count": 7,
   "metadata": {
    "collapsed": true
   },
   "outputs": [],
   "source": [
    "combined = data[\"sat_results\"]\n",
    "\n",
    "combined = combined.merge(data[\"ap_2010\"], on=\"DBN\", how=\"left\")\n",
    "combined = combined.merge(data[\"graduation\"], on=\"DBN\", how=\"left\")\n",
    "\n",
    "to_merge = [\"class_size\", \"demographics\", \"survey\", \"hs_directory\"]\n",
    "\n",
    "for m in to_merge:\n",
    "    combined = combined.merge(data[m], on=\"DBN\", how=\"inner\")\n",
    "\n",
    "combined = combined.fillna(combined.mean())\n",
    "combined = combined.fillna(0)"
   ]
  },
  {
   "cell_type": "markdown",
   "metadata": {},
   "source": [
    "# Add a school district column for mapping"
   ]
  },
  {
   "cell_type": "code",
   "execution_count": 8,
   "metadata": {
    "collapsed": true
   },
   "outputs": [],
   "source": [
    "def get_first_two_chars(dbn):\n",
    "    return dbn[0:2]\n",
    "\n",
    "combined[\"school_dist\"] = combined[\"DBN\"].apply(get_first_two_chars)"
   ]
  },
  {
   "cell_type": "markdown",
   "metadata": {},
   "source": [
    "# Find correlations"
   ]
  },
  {
   "cell_type": "code",
   "execution_count": 9,
   "metadata": {
    "collapsed": false
   },
   "outputs": [
    {
     "name": "stdout",
     "output_type": "stream",
     "text": [
      "SAT Critical Reading Avg. Score         0.986820\n",
      "SAT Math Avg. Score                     0.972643\n",
      "SAT Writing Avg. Score                  0.987771\n",
      "sat_score                               1.000000\n",
      "AP Test Takers                          0.523140\n",
      "Total Exams Taken                       0.514333\n",
      "Number of Exams with scores 3 4 or 5    0.463245\n",
      "Total Cohort                            0.325144\n",
      "CSD                                     0.042948\n",
      "NUMBER OF STUDENTS / SEATS FILLED       0.394626\n",
      "NUMBER OF SECTIONS                      0.362673\n",
      "AVERAGE CLASS SIZE                      0.381014\n",
      "SIZE OF SMALLEST CLASS                  0.249949\n",
      "SIZE OF LARGEST CLASS                   0.314434\n",
      "SCHOOLWIDE PUPIL-TEACHER RATIO               NaN\n",
      "schoolyear                                   NaN\n",
      "fl_percent                                   NaN\n",
      "frl_percent                            -0.722225\n",
      "total_enrollment                        0.367857\n",
      "ell_num                                -0.153778\n",
      "ell_percent                            -0.398750\n",
      "sped_num                                0.034933\n",
      "sped_percent                           -0.448170\n",
      "asian_num                               0.475445\n",
      "asian_per                               0.570730\n",
      "black_num                               0.027979\n",
      "black_per                              -0.284139\n",
      "hispanic_num                            0.025744\n",
      "hispanic_per                           -0.396985\n",
      "white_num                               0.449559\n",
      "                                          ...   \n",
      "rr_p                                    0.047925\n",
      "N_s                                     0.423463\n",
      "N_t                                     0.291463\n",
      "N_p                                     0.421530\n",
      "saf_p_11                                0.122913\n",
      "com_p_11                               -0.115073\n",
      "eng_p_11                                0.020254\n",
      "aca_p_11                                0.035155\n",
      "saf_t_11                                0.313810\n",
      "com_t_11                                0.082419\n",
      "eng_t_11                                0.036906\n",
      "aca_t_11                                0.132348\n",
      "saf_s_11                                0.337639\n",
      "com_s_11                                0.187370\n",
      "eng_s_11                                0.213822\n",
      "aca_s_11                                0.339435\n",
      "saf_tot_11                              0.318753\n",
      "com_tot_11                              0.077310\n",
      "eng_tot_11                              0.100102\n",
      "aca_tot_11                              0.190966\n",
      "grade_span_max                               NaN\n",
      "expgrade_span_max                            NaN\n",
      "zip                                    -0.063977\n",
      "total_students                          0.407827\n",
      "number_programs                         0.117012\n",
      "priority08                                   NaN\n",
      "priority09                                   NaN\n",
      "priority10                                   NaN\n",
      "lat                                    -0.121029\n",
      "lon                                    -0.132222\n",
      "Name: sat_score, dtype: float64\n"
     ]
    }
   ],
   "source": [
    "correlations = combined.corr()\n",
    "correlations = correlations[\"sat_score\"]\n",
    "print(correlations)"
   ]
  },
  {
   "cell_type": "markdown",
   "metadata": {},
   "source": [
    "# Plotting survey correlations"
   ]
  },
  {
   "cell_type": "code",
   "execution_count": 10,
   "metadata": {
    "collapsed": true
   },
   "outputs": [],
   "source": [
    "# Remove DBN since it's a unique identifier, not a useful numerical value for correlation.\n",
    "survey_fields.remove(\"DBN\")"
   ]
  },
  {
   "cell_type": "code",
   "execution_count": 11,
   "metadata": {
    "collapsed": false
   },
   "outputs": [
    {
     "name": "stdout",
     "output_type": "stream",
     "text": [
      "N_t 0.291463027518\n",
      "saf_tot_11 0.318753450217\n",
      "N_p 0.421530025358\n",
      "com_t_11 0.0824194189013\n",
      "rr_t -0.0233862911735\n",
      "eng_p_11 0.0202541072223\n",
      "com_tot_11 0.0773102012897\n",
      "saf_s_11 0.337638744361\n",
      "rr_s 0.232199129275\n",
      "rr_p 0.047924518832\n",
      "com_s_11 0.187370201848\n",
      "eng_t_11 0.0369064785838\n",
      "saf_p_11 0.122912836272\n",
      "aca_t_11 0.132347667783\n",
      "aca_p_11 0.0351546180087\n",
      "eng_s_11 0.213821608135\n",
      "aca_tot_11 0.190965977941\n",
      "N_s 0.423462947509\n",
      "com_p_11 -0.115073482428\n",
      "eng_tot_11 0.100101829625\n",
      "saf_t_11 0.313810333352\n",
      "aca_s_11 0.339435473542\n"
     ]
    }
   ],
   "source": [
    "import matplotlib as mlib\n",
    "\n",
    "def intersection(a,b):\n",
    "    a = list(set(a))\n",
    "    b = list(set(b))\n",
    "    res = []\n",
    "    for i in a:\n",
    "        for j in b:\n",
    "            if i == j:\n",
    "                res.append(i)\n",
    "    return res\n",
    "\n",
    "\n",
    "A = combined.columns.values\n",
    "B = survey_fields\n",
    "C = intersection(A, B)\n",
    "\n",
    "for i in C:\n",
    "    print(i + ' ' + str(correlations[i]))\n",
    "\n"
   ]
  },
  {
   "cell_type": "code",
   "execution_count": 12,
   "metadata": {
    "collapsed": false
   },
   "outputs": [
    {
     "data": {
      "image/png": "[encoded data removed]",
      "text/plain": [
       "<matplotlib.figure.Figure at 0x7fe8df72bb70>"
      ]
     },
     "metadata": {},
     "output_type": "display_data"
    }
   ],
   "source": [
    "%matplotlib inline\n",
    "import matplotlib.pyplot as plt\n",
    "\n",
    "a = list(combined['saf_s_11'])\n",
    "b = list(combined['sat_score'])\n",
    "\n",
    "plt.scatter(a, b)\n",
    "plt.xlabel('saf_s_11')\n",
    "plt.ylabel('sat_score')\n",
    "plt.show()"
   ]
  },
  {
   "cell_type": "code",
   "execution_count": 13,
   "metadata": {
    "collapsed": false
   },
   "outputs": [],
   "source": [
    "# sat_score and saf_s_11 show a high positive correlation, \n",
    "# as expected"
   ]
  },
  {
   "cell_type": "code",
   "execution_count": 14,
   "metadata": {
    "collapsed": false
   },
   "outputs": [
    {
     "data": {
      "image/png": "[encoded data removed]",
      "text/plain": [
       "<matplotlib.figure.Figure at 0x7fe8df733390>"
      ]
     },
     "metadata": {},
     "output_type": "display_data"
    }
   ],
   "source": [
    "x = combined.groupby('school_dist')['saf_s_11'].transform('mean')\n",
    "y = combined['sat_score']\n",
    "\n",
    "plt.scatter(x, y)\n",
    "plt.xlabel('saf_s_11')\n",
    "plt.ylabel('sat_score')\n",
    "plt.show()\n",
    "\n"
   ]
  },
  {
   "cell_type": "code",
   "execution_count": 15,
   "metadata": {
    "collapsed": false
   },
   "outputs": [
    {
     "name": "stdout",
     "output_type": "stream",
     "text": [
      "['DBN' 'SCHOOL NAME' 'Num of SAT Test Takers'\n",
      " 'SAT Critical Reading Avg. Score' 'SAT Math Avg. Score'\n",
      " 'SAT Writing Avg. Score' 'sat_score' 'SchoolName' 'AP Test Takers '\n",
      " 'Total Exams Taken' 'Number of Exams with scores 3 4 or 5' 'Demographic'\n",
      " 'School Name' 'Cohort' 'Total Cohort' 'Total Grads - n'\n",
      " 'Total Grads - % of cohort' 'Total Regents - n'\n",
      " 'Total Regents - % of cohort' 'Total Regents - % of grads'\n",
      " 'Advanced Regents - n' 'Advanced Regents - % of cohort'\n",
      " 'Advanced Regents - % of grads' 'Regents w/o Advanced - n'\n",
      " 'Regents w/o Advanced - % of cohort' 'Regents w/o Advanced - % of grads'\n",
      " 'Local - n' 'Local - % of cohort' 'Local - % of grads'\n",
      " 'Still Enrolled - n' 'Still Enrolled - % of cohort' 'Dropped Out - n'\n",
      " 'Dropped Out - % of cohort' 'CSD' 'NUMBER OF STUDENTS / SEATS FILLED'\n",
      " 'NUMBER OF SECTIONS' 'AVERAGE CLASS SIZE' 'SIZE OF SMALLEST CLASS'\n",
      " 'SIZE OF LARGEST CLASS' 'SCHOOLWIDE PUPIL-TEACHER RATIO' 'Name'\n",
      " 'schoolyear' 'fl_percent' 'frl_percent' 'total_enrollment' 'prek' 'k'\n",
      " 'grade1' 'grade2' 'grade3' 'grade4' 'grade5' 'grade6' 'grade7' 'grade8'\n",
      " 'grade9' 'grade10' 'grade11' 'grade12' 'ell_num' 'ell_percent' 'sped_num'\n",
      " 'sped_percent' 'ctt_num' 'selfcontained_num' 'asian_num' 'asian_per'\n",
      " 'black_num' 'black_per' 'hispanic_num' 'hispanic_per' 'white_num'\n",
      " 'white_per' 'male_num' 'male_per' 'female_num' 'female_per' 'rr_s' 'rr_t'\n",
      " 'rr_p' 'N_s' 'N_t' 'N_p' 'saf_p_11' 'com_p_11' 'eng_p_11' 'aca_p_11'\n",
      " 'saf_t_11' 'com_t_11' 'eng_t_11' 'aca_t_11' 'saf_s_11' 'com_s_11'\n",
      " 'eng_s_11' 'aca_s_11' 'saf_tot_11' 'com_tot_11' 'eng_tot_11' 'aca_tot_11'\n",
      " 'dbn' 'school_name' 'boro' 'building_code' 'phone_number' 'fax_number'\n",
      " 'grade_span_min' 'grade_span_max' 'expgrade_span_min' 'expgrade_span_max'\n",
      " 'bus' 'subway' 'primary_address_line_1' 'city' 'state_code' 'zip'\n",
      " 'website' 'total_students' 'campus_name' 'school_type'\n",
      " 'overview_paragraph' 'program_highlights' 'language_classes'\n",
      " 'advancedplacement_courses' 'online_ap_courses' 'online_language_courses'\n",
      " 'extracurricular_activities' 'psal_sports_boys' 'psal_sports_girls'\n",
      " 'psal_sports_coed' 'school_sports' 'partner_cbo' 'partner_hospital'\n",
      " 'partner_highered' 'partner_cultural' 'partner_nonprofit'\n",
      " 'partner_corporate' 'partner_financial' 'partner_other' 'addtl_info1'\n",
      " 'addtl_info2' 'start_time' 'end_time' 'se_services' 'ell_programs'\n",
      " 'school_accessibility_description' 'number_programs' 'priority01'\n",
      " 'priority02' 'priority03' 'priority04' 'priority05' 'priority06'\n",
      " 'priority07' 'priority08' 'priority09' 'priority10' 'Location 1' 'lat'\n",
      " 'lon' 'school_dist']\n"
     ]
    }
   ],
   "source": [
    "print (combined.columns.values)"
   ]
  },
  {
   "cell_type": "code",
   "execution_count": 16,
   "metadata": {
    "collapsed": false
   },
   "outputs": [
    {
     "data": {
      "image/png": "[encoded data removed]",
      "text/plain": [
       "<matplotlib.figure.Figure at 0x7fe8df733630>"
      ]
     },
     "metadata": {},
     "output_type": "display_data"
    }
   ],
   "source": [
    "from mpl_toolkits.basemap import Basemap\n",
    "import matplotlib.pyplot as plt\n",
    "m = Basemap()\n",
    "m.drawcoastlines()\n",
    "plt.show()"
   ]
  },
  {
   "cell_type": "code",
   "execution_count": 17,
   "metadata": {
    "collapsed": false
   },
   "outputs": [
    {
     "data": {
      "image/png": "[encoded data removed]",
      "text/plain": [
       "<matplotlib.figure.Figure at 0x7fe8df91b470>"
      ]
     },
     "metadata": {},
     "output_type": "display_data"
    }
   ],
   "source": [
    "import matplotlib.pyplot as plt\n",
    "plt.scatter(combined['saf_s_11'], combined['sat_score'])\n",
    "plt.show()"
   ]
  },
  {
   "cell_type": "code",
   "execution_count": 18,
   "metadata": {
    "collapsed": false
   },
   "outputs": [
    {
     "data": {
      "image/png": "[encoded data removed]",
      "text/plain": [
       "<matplotlib.figure.Figure at 0x7fe9481727f0>"
      ]
     },
     "metadata": {},
     "output_type": "display_data"
    }
   ],
   "source": [
    "%matplotlib inline\n",
    "import numpy as np\n",
    "import matplotlib.pyplot as plt\n",
    "\n",
    "fig, ax= plt.subplots()\n",
    "races = ['white_per', 'asian_per', 'black_per', 'hispanic_per']\n",
    "heigth = range(len(races))\n",
    "fig.set_size_inches(5, 3, forward=True)\n",
    "ax.bar(correlations[races], heigth, width=0.1, align='center', \n",
    "        color='red')\n",
    "ax.set_ylabel('correlation') \n",
    "ax.set_xlabel('races')\n",
    "ax.set_xticks([i for i, item in enumerate(races)])\n",
    "ax.set_xticklabels(correlations[races])\n",
    "plt.show()"
   ]
  },
  {
   "cell_type": "code",
   "execution_count": 19,
   "metadata": {
    "collapsed": false
   },
   "outputs": [
    {
     "data": {
      "text/plain": [
       "<matplotlib.collections.PathCollection at 0x7fe8de467400>"
      ]
     },
     "execution_count": 19,
     "metadata": {},
     "output_type": "execute_result"
    },
    {
     "data": {
      "image/png": "[encoded data removed]",
      "text/plain": [
       "<matplotlib.figure.Figure at 0x7fe8df733a58>"
      ]
     },
     "metadata": {},
     "output_type": "display_data"
    }
   ],
   "source": [
    "plt.scatter(combined['hispanic_per'], combined['sat_score'])"
   ]
  },
  {
   "cell_type": "code",
   "execution_count": 20,
   "metadata": {
    "collapsed": false
   },
   "outputs": [
    {
     "name": "stdout",
     "output_type": "stream",
     "text": [
      "school: MANHATTAN BRIDGES HIGH SCHOOL\n",
      "white: 0.0\n",
      "black: 0.0\n",
      "asian: 0.2\n",
      "hispanic: 99.8\n",
      "district: 02\n",
      "\n",
      "school: WASHINGTON HEIGHTS EXPEDITIONARY LEARNING SCHOOL\n",
      "white: 0.3\n",
      "black: 2.3\n",
      "asian: 0.0\n",
      "hispanic: 96.7\n",
      "district: 06\n",
      "\n",
      "school: GREGORIO LUPERON HIGH SCHOOL FOR SCIENCE AND MATHEMATICS\n",
      "white: 0.0\n",
      "black: 0.0\n",
      "asian: 0.0\n",
      "hispanic: 99.8\n",
      "district: 06\n",
      "\n",
      "school: ACADEMY FOR LANGUAGE AND TECHNOLOGY\n",
      "white: 0.0\n",
      "black: 0.6\n",
      "asian: 0.0\n",
      "hispanic: 99.4\n",
      "district: 09\n",
      "\n",
      "school: INTERNATIONAL SCHOOL FOR LIBERAL ARTS\n",
      "white: 0.0\n",
      "black: 0.0\n",
      "asian: 0.2\n",
      "hispanic: 99.8\n",
      "district: 10\n",
      "\n",
      "school: PAN AMERICAN INTERNATIONAL HIGH SCHOOL AT MONROE\n",
      "white: 0.0\n",
      "black: 0.0\n",
      "asian: 0.0\n",
      "hispanic: 99.8\n",
      "district: 12\n",
      "\n",
      "school: MULTICULTURAL HIGH SCHOOL\n",
      "white: 0.0\n",
      "black: 0.2\n",
      "asian: 0.0\n",
      "hispanic: 99.8\n",
      "district: 19\n",
      "\n",
      "school: PAN AMERICAN INTERNATIONAL HIGH SCHOOL\n",
      "white: 0.0\n",
      "black: 0.0\n",
      "asian: 0.0\n",
      "hispanic: 100.0\n",
      "district: 24\n",
      "\n"
     ]
    }
   ],
   "source": [
    "hispanic_schools = []\n",
    "for i in range(len(combined)):\n",
    "    if combined['hispanic_per'][i] > 95:\n",
    "        hispanic_schools.append(i)\n",
    "for i in hispanic_schools:\n",
    "    print('school: ' + combined['SCHOOL NAME'][i])\n",
    "    print('white: ' + str(combined['white_per'][i]))\n",
    "    print('black: ' + str(combined['black_per'][i]))\n",
    "    print('asian: ' + str(combined['asian_per'][i]))\n",
    "    print('hispanic: ' + str(combined['hispanic_per'][i]))\n",
    "    print('district: ' + str(combined['school_dist'][i]))\n",
    "    print()"
   ]
  },
  {
   "cell_type": "raw",
   "metadata": {
    "collapsed": true
   },
   "source": [
    "print('init')\n",
    "hispanic_schools = []\n",
    "for i in range(len(combined)):\n",
    "    if combined['hispanic_per'][i] > 95:\n",
    "        hispanic_schools.append(combined['SCHOOL NAME'][i])\n",
    "print(hispanic_schools)\n",
    "print('the end')"
   ]
  },
  {
   "cell_type": "code",
   "execution_count": 21,
   "metadata": {
    "collapsed": false
   },
   "outputs": [
    {
     "name": "stdout",
     "output_type": "stream",
     "text": [
      "school: STUYVESANT HIGH SCHOOL\n",
      "white: 23.7\n",
      "black: 1.2\n",
      "asian: 72.1\n",
      "hispanic: 2.4\n",
      "district: 02\n",
      "sat score: 2096.0\n",
      "\n",
      "school: BRONX HIGH SCHOOL OF SCIENCE\n",
      "white: 25.4\n",
      "black: 3.5\n",
      "asian: 63.5\n",
      "hispanic: 7.2\n",
      "district: 10\n",
      "sat score: 1969.0\n",
      "\n",
      "school: BROOKLYN TECHNICAL HIGH SCHOOL\n",
      "white: 21.3\n",
      "black: 10.2\n",
      "asian: 60.3\n",
      "hispanic: 7.9\n",
      "district: 13\n",
      "sat score: 1833.0\n",
      "\n",
      "school: QUEENS HIGH SCHOOL FOR THE SCIENCES AT YORK COLLEGE\n",
      "white: 6.7\n",
      "black: 10.5\n",
      "asian: 74.4\n",
      "hispanic: 7.9\n",
      "district: 28\n",
      "sat score: 1868.0\n",
      "\n",
      "school: STATEN ISLAND TECHNICAL HIGH SCHOOL\n",
      "white: 61.3\n",
      "black: 1.1\n",
      "asian: 31.8\n",
      "hispanic: 5.3\n",
      "district: 31\n",
      "sat score: 1953.0\n",
      "\n"
     ]
    }
   ],
   "source": [
    "not_hispanic_schools = []\n",
    "for i in range(len(combined)):\n",
    "    if (combined['hispanic_per'][i]<10) and (combined['sat_score'][i] \n",
    "    > 1800):\n",
    "        not_hispanic_schools.append(i)\n",
    "for i in not_hispanic_schools:\n",
    "    print('school: ' + combined['SCHOOL NAME'][i])\n",
    "    print('white: ' + str(combined['white_per'][i]))\n",
    "    print('black: ' + str(combined['black_per'][i]))\n",
    "    print('asian: ' + str(combined['asian_per'][i]))\n",
    "    print('hispanic: ' + str(combined['hispanic_per'][i]))\n",
    "    print('district: ' + str(combined['school_dist'][i]))\n",
    "    print('sat score: ' + str(combined['sat_score'][i]))\n",
    "    print()"
   ]
  },
  {
   "cell_type": "code",
   "execution_count": 22,
   "metadata": {
    "collapsed": true
   },
   "outputs": [],
   "source": [
    "# except the STATEN ISLAND TECHNICAL HIGH SCHOOL, that has a majority\n",
    "# of white kids, everyone else has a majority of asian kids\n",
    "# removing the filter on the presence of hispanic kids, the best\n",
    "# hispanic presence in a top school is in the \n",
    "# HIGH SCHOOL FOR MATHEMATICS, SCIENCE AND ENGINEERING AT CITY \n",
    "# COLLEGE, with 21.2 percent\n",
    "# in the 9 top schools, we have 6 with asian majority, and 3 with\n",
    "# white majority\n",
    "# there is a dominance of those races, or the sat tests are biased?"
   ]
  },
  {
   "cell_type": "code",
   "execution_count": 23,
   "metadata": {
    "collapsed": false
   },
   "outputs": [
    {
     "name": "stdout",
     "output_type": "stream",
     "text": [
      "SAT Critical Reading Avg. Score         0.986820\n",
      "SAT Math Avg. Score                     0.972643\n",
      "SAT Writing Avg. Score                  0.987771\n",
      "sat_score                               1.000000\n",
      "AP Test Takers                          0.523140\n",
      "Total Exams Taken                       0.514333\n",
      "Number of Exams with scores 3 4 or 5    0.463245\n",
      "Total Cohort                            0.325144\n",
      "CSD                                     0.042948\n",
      "NUMBER OF STUDENTS / SEATS FILLED       0.394626\n",
      "NUMBER OF SECTIONS                      0.362673\n",
      "AVERAGE CLASS SIZE                      0.381014\n",
      "SIZE OF SMALLEST CLASS                  0.249949\n",
      "SIZE OF LARGEST CLASS                   0.314434\n",
      "SCHOOLWIDE PUPIL-TEACHER RATIO               NaN\n",
      "schoolyear                                   NaN\n",
      "fl_percent                                   NaN\n",
      "frl_percent                            -0.722225\n",
      "total_enrollment                        0.367857\n",
      "ell_num                                -0.153778\n",
      "ell_percent                            -0.398750\n",
      "sped_num                                0.034933\n",
      "sped_percent                           -0.448170\n",
      "asian_num                               0.475445\n",
      "asian_per                               0.570730\n",
      "black_num                               0.027979\n",
      "black_per                              -0.284139\n",
      "hispanic_num                            0.025744\n",
      "hispanic_per                           -0.396985\n",
      "white_num                               0.449559\n",
      "                                          ...   \n",
      "rr_p                                    0.047925\n",
      "N_s                                     0.423463\n",
      "N_t                                     0.291463\n",
      "N_p                                     0.421530\n",
      "saf_p_11                                0.122913\n",
      "com_p_11                               -0.115073\n",
      "eng_p_11                                0.020254\n",
      "aca_p_11                                0.035155\n",
      "saf_t_11                                0.313810\n",
      "com_t_11                                0.082419\n",
      "eng_t_11                                0.036906\n",
      "aca_t_11                                0.132348\n",
      "saf_s_11                                0.337639\n",
      "com_s_11                                0.187370\n",
      "eng_s_11                                0.213822\n",
      "aca_s_11                                0.339435\n",
      "saf_tot_11                              0.318753\n",
      "com_tot_11                              0.077310\n",
      "eng_tot_11                              0.100102\n",
      "aca_tot_11                              0.190966\n",
      "grade_span_max                               NaN\n",
      "expgrade_span_max                            NaN\n",
      "zip                                    -0.063977\n",
      "total_students                          0.407827\n",
      "number_programs                         0.117012\n",
      "priority08                                   NaN\n",
      "priority09                                   NaN\n",
      "priority10                                   NaN\n",
      "lat                                    -0.121029\n",
      "lon                                    -0.132222\n",
      "Name: sat_score, dtype: float64\n"
     ]
    }
   ],
   "source": [
    "print(correlations)"
   ]
  },
  {
   "cell_type": "code",
   "execution_count": 24,
   "metadata": {
    "collapsed": false
   },
   "outputs": [
    {
     "name": "stdout",
     "output_type": "stream",
     "text": [
      "male presence and sat score: -0.11206243686\n",
      "female presence and sat score: 0.112107739422\n",
      "\n",
      "9\n",
      "school: BARD HIGH SCHOOL EARLY COLLEGE\n",
      "male: 31.3\n",
      "female: 68.7\n",
      "white: 49.8\n",
      "black: 15.1\n",
      "asian: 15.1\n",
      "hispanic: 18.2\n",
      "sat score: 1856.0\n",
      "\n",
      "school: STUYVESANT HIGH SCHOOL\n",
      "male: 59.3\n",
      "female: 40.7\n",
      "white: 23.7\n",
      "black: 1.2\n",
      "asian: 72.1\n",
      "hispanic: 2.4\n",
      "sat score: 2096.0\n",
      "\n",
      "school: HIGH SCHOOL FOR MATHEMATICS, SCIENCE AND ENGINEERING AT CITY COLLEGE\n",
      "male: 65.8\n",
      "female: 34.2\n",
      "white: 26.1\n",
      "black: 15.0\n",
      "asian: 36.2\n",
      "hispanic: 21.2\n",
      "sat score: 1847.0\n",
      "\n",
      "school: BRONX HIGH SCHOOL OF SCIENCE\n",
      "male: 57.8\n",
      "female: 42.2\n",
      "white: 25.4\n",
      "black: 3.5\n",
      "asian: 63.5\n",
      "hispanic: 7.2\n",
      "sat score: 1969.0\n",
      "\n",
      "school: HIGH SCHOOL OF AMERICAN STUDIES AT LEHMAN COLLEGE\n",
      "male: 53.8\n",
      "female: 46.2\n",
      "white: 53.8\n",
      "black: 10.6\n",
      "asian: 16.7\n",
      "hispanic: 18.0\n",
      "sat score: 1920.0\n",
      "\n",
      "school: BROOKLYN TECHNICAL HIGH SCHOOL\n",
      "male: 58.3\n",
      "female: 41.7\n",
      "white: 21.3\n",
      "black: 10.2\n",
      "asian: 60.3\n",
      "hispanic: 7.9\n",
      "sat score: 1833.0\n",
      "\n",
      "school: TOWNSEND HARRIS HIGH SCHOOL\n",
      "male: 28.9\n",
      "female: 71.1\n",
      "white: 24.6\n",
      "black: 5.9\n",
      "asian: 55.5\n",
      "hispanic: 12.9\n",
      "sat score: 1910.0\n",
      "\n",
      "school: QUEENS HIGH SCHOOL FOR THE SCIENCES AT YORK COLLEGE\n",
      "male: 56.5\n",
      "female: 43.5\n",
      "white: 6.7\n",
      "black: 10.5\n",
      "asian: 74.4\n",
      "hispanic: 7.9\n",
      "sat score: 1868.0\n",
      "\n",
      "school: STATEN ISLAND TECHNICAL HIGH SCHOOL\n",
      "male: 57.0\n",
      "female: 43.0\n",
      "white: 61.3\n",
      "black: 1.1\n",
      "asian: 31.8\n",
      "hispanic: 5.3\n",
      "sat score: 1953.0\n",
      "\n"
     ]
    }
   ],
   "source": [
    "import pandas\n",
    "male_sat_corr = combined['sat_score'].corr(combined['male_per'])\n",
    "female_sat_corr = combined['sat_score'].corr(combined['female_per'])\n",
    "print('male presence and sat score: ' + str(male_sat_corr))\n",
    "print('female presence and sat score: ' + str(female_sat_corr))\n",
    "print()\n",
    "top_schools = []\n",
    "for i in range(len(combined)):\n",
    "    if int(combined['sat_score'][i]) > 1800:\n",
    "        top_schools.append(i)\n",
    "print(len(top_schools))\n",
    "for i in top_schools:\n",
    "    print('school: ' + combined['SCHOOL NAME'][i])\n",
    "    print('male: ' + str(combined['male_per'][i]))\n",
    "    print('female: ' + str(combined['female_per'][i]))\n",
    "    print('white: ' + str(combined['white_per'][i]))\n",
    "    print('black: ' + str(combined['black_per'][i]))\n",
    "    print('asian: ' + str(combined['asian_per'][i]))\n",
    "    print('hispanic: ' + str(combined['hispanic_per'][i]))\n",
    "    print('sat score: ' + str(combined['sat_score'][i]))\n",
    "    print()\n"
   ]
  },
  {
   "cell_type": "code",
   "execution_count": 25,
   "metadata": {
    "collapsed": true
   },
   "outputs": [],
   "source": [
    "# girls have better results on average, with a slight positive \n",
    "# correlation. The top schools though have better results from boys"
   ]
  },
  {
   "cell_type": "code",
   "execution_count": 26,
   "metadata": {
    "collapsed": false
   },
   "outputs": [
    {
     "name": "stdout",
     "output_type": "stream",
     "text": [
      "school: BARD HIGH SCHOOL EARLY COLLEGE\n",
      "male: 31.3\n",
      "female: 68.7\n",
      "white: 49.8\n",
      "black: 15.1\n",
      "asian: 15.1\n",
      "hispanic: 18.2\n",
      "sat score: 1856.0\n",
      "\n",
      "school: ELEANOR ROOSEVELT HIGH SCHOOL\n",
      "male: 32.5\n",
      "female: 67.5\n",
      "white: 63.7\n",
      "black: 5.5\n",
      "asian: 17.2\n",
      "hispanic: 11.6\n",
      "sat score: 1758.0\n",
      "\n",
      "school: BEACON HIGH SCHOOL\n",
      "male: 39.0\n",
      "female: 61.0\n",
      "white: 49.8\n",
      "black: 14.6\n",
      "asian: 8.9\n",
      "hispanic: 22.8\n",
      "sat score: 1744.0\n",
      "\n",
      "school: FIORELLO H. LAGUARDIA HIGH SCHOOL OF MUSIC & ART AND PERFORMING ARTS\n",
      "male: 26.4\n",
      "female: 73.6\n",
      "white: 49.2\n",
      "black: 12.9\n",
      "asian: 19.6\n",
      "hispanic: 16.6\n",
      "sat score: 1707.0\n",
      "\n",
      "school: TOWNSEND HARRIS HIGH SCHOOL\n",
      "male: 28.9\n",
      "female: 71.1\n",
      "white: 24.6\n",
      "black: 5.9\n",
      "asian: 55.5\n",
      "hispanic: 12.9\n",
      "sat score: 1910.0\n",
      "\n"
     ]
    }
   ],
   "source": [
    "good_schools_f = []\n",
    "for i in range(len(combined)):\n",
    "    if int(combined['sat_score'][i]) > 1700:\n",
    "        if combined['female_per'][i] > 60:\n",
    "            good_schools_f.append(i)\n",
    "for i in good_schools_f:\n",
    "    print('school: ' + combined['SCHOOL NAME'][i])\n",
    "    print('male: ' + str(combined['male_per'][i]))\n",
    "    print('female: ' + str(combined['female_per'][i]))\n",
    "    print('white: ' + str(combined['white_per'][i]))\n",
    "    print('black: ' + str(combined['black_per'][i]))\n",
    "    print('asian: ' + str(combined['asian_per'][i]))\n",
    "    print('hispanic: ' + str(combined['hispanic_per'][i]))\n",
    "    print('sat score: ' + str(combined['sat_score'][i]))\n",
    "    print()\n",
    "\n"
   ]
  },
  {
   "cell_type": "code",
   "execution_count": 27,
   "metadata": {
    "collapsed": true
   },
   "outputs": [],
   "source": [
    "# we have 5 good schools with a predominance of girls of at least \n",
    "# 60%, while there is just one with a mele predominance. what is more \n",
    "# interesting is that, out of five schools, four have are mostly \n",
    "# 'white' schools"
   ]
  },
  {
   "cell_type": "code",
   "execution_count": 34,
   "metadata": {
    "collapsed": false
   },
   "outputs": [
    {
     "data": {
      "image/png": "[encoded data removed]",
      "text/plain": [
       "<matplotlib.figure.Figure at 0x7fe8df8c7908>"
      ]
     },
     "metadata": {},
     "output_type": "display_data"
    }
   ],
   "source": [
    "%matplotlib inline\n",
    "import matplotlib.pyplot as plt\n",
    "import numpy as np\n",
    "ap_per = []\n",
    "for i in range(len(combined)):\n",
    "    ap_per.append(combined['AP Test Takers '][i] / combined['total_enrollment'][i])\n",
    "plt.scatter(ap_per, combined['sat_score'])\n",
    "plt.show()"
   ]
  },
  {
   "cell_type": "code",
   "execution_count": 37,
   "metadata": {
    "collapsed": false
   },
   "outputs": [
    {
     "name": "stdout",
     "output_type": "stream",
     "text": [
      "0.38101433081\n"
     ]
    }
   ],
   "source": [
    "crr = combined['AVERAGE CLASS SIZE'].corr(combined['sat_score'])\n",
    "print(crr)\n",
    "# there is a correlation of 0.38 between class size and sat_score\n",
    "# it means that schools with larger classes have a better sat score\n",
    "# weird!!!"
   ]
  },
  {
   "cell_type": "code",
   "execution_count": 43,
   "metadata": {
    "collapsed": false
   },
   "outputs": [
    {
     "name": "stdout",
     "output_type": "stream",
     "text": [
      "school_dist\n",
      "01    1354.500000\n",
      "02    1295.638184\n",
      "03    1293.443035\n",
      "04    1224.142857\n",
      "05    1285.062687\n",
      "06    1164.643881\n",
      "07    1128.846154\n",
      "08    1159.665129\n",
      "09    1131.971940\n",
      "10    1222.227273\n",
      "11    1165.000000\n",
      "12    1101.823134\n",
      "13    1237.187600\n",
      "14    1179.459915\n",
      "15    1190.604312\n",
      "16    1120.109701\n",
      "17    1161.428571\n",
      "18    1118.000000\n",
      "19    1103.833333\n",
      "20    1273.687761\n",
      "21    1206.312619\n",
      "22    1450.500000\n",
      "23    1157.333333\n",
      "24    1242.000000\n",
      "25    1357.000000\n",
      "26    1377.600000\n",
      "27    1224.300000\n",
      "28    1347.846947\n",
      "29    1181.929851\n",
      "30    1326.382090\n",
      "31    1382.500000\n",
      "32    1119.500000\n",
      "Name: sat_score, dtype: float64\n"
     ]
    }
   ],
   "source": [
    "lst = combined.groupby('school_dist')['sat_score'].mean()\n",
    "print(x)\n",
    "# district 22 has an average sat score of 1450\n",
    "# district 12 has an average sat score of a little more than 11"
   ]
  },
  {
   "cell_type": "code",
   "execution_count": null,
   "metadata": {
    "collapsed": true
   },
   "outputs": [],
   "source": []
  }
 ],
 "metadata": {
  "kernelspec": {
   "display_name": "Python 3",
   "language": "python",
   "name": "python3"
  },
  "language_info": {
   "codemirror_mode": {
    "name": "ipython",
    "version": 3
   },
   "file_extension": ".py",
   "mimetype": "text/x-python",
   "name": "python",
   "nbconvert_exporter": "python",
   "pygments_lexer": "ipython3",
   "version": "3.4.3"
  }
 },
 "nbformat": 4,
 "nbformat_minor": 2
}
